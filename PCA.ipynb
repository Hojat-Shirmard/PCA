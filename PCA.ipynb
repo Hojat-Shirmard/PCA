{
 "cells": [
  {
   "cell_type": "code",
   "execution_count": 1,
   "metadata": {},
   "outputs": [],
   "source": [
    "from skimage import io\n",
    "import matplotlib.pyplot as plt\n",
    "from sklearn.decomposition import PCA"
   ]
  },
  {
   "cell_type": "code",
   "execution_count": 2,
   "metadata": {},
   "outputs": [],
   "source": [
    "ic = io.imread_collection('G:\\Python_Learning\\Python_RS\\Image_Copy\\Image\\Landsat\\*.tif')\n",
    "images = []\n",
    "shape1 = ic[0].shape"
   ]
  },
  {
   "cell_type": "code",
   "execution_count": 3,
   "metadata": {},
   "outputs": [
    {
     "data": {
      "text/plain": [
       "(998, 998)"
      ]
     },
     "execution_count": 3,
     "metadata": {},
     "output_type": "execute_result"
    }
   ],
   "source": [
    "shape1"
   ]
  },
  {
   "cell_type": "code",
   "execution_count": 4,
   "metadata": {},
   "outputs": [],
   "source": [
    "for i in range(len(ic)):\n",
    "    images.append(ic[i].flatten())"
   ]
  },
  {
   "cell_type": "code",
   "execution_count": 5,
   "metadata": {},
   "outputs": [
    {
     "data": {
      "text/plain": [
       "[array([-64, -71, -76, ..., 305, 185,  70]),\n",
       " array([386, 402, 378, ..., 703, 544, 452]),\n",
       " array([3311, 3527, 3537, ..., 2986, 2712, 2843]),\n",
       " array([163, 166, 150, ..., 685, 501, 342]),\n",
       " array([1695, 1710, 1712, ..., 1730, 1449, 1276]),\n",
       " array([ 844,  837,  830, ..., 1042,  836,  668])]"
      ]
     },
     "execution_count": 5,
     "metadata": {},
     "output_type": "execute_result"
    }
   ],
   "source": [
    "images"
   ]
  },
  {
   "cell_type": "code",
   "execution_count": 6,
   "metadata": {},
   "outputs": [
    {
     "data": {
      "text/plain": [
       "PCA()"
      ]
     },
     "execution_count": 6,
     "metadata": {},
     "output_type": "execute_result"
    }
   ],
   "source": [
    "pca = PCA()\n",
    "pca.fit(images)"
   ]
  },
  {
   "cell_type": "code",
   "execution_count": 7,
   "metadata": {},
   "outputs": [
    {
     "name": "stdout",
     "output_type": "stream",
     "text": [
      "(6, 996004)\n"
     ]
    }
   ],
   "source": [
    "print(pca.components_.shape)"
   ]
  },
  {
   "cell_type": "code",
   "execution_count": 8,
   "metadata": {},
   "outputs": [
    {
     "data": {
      "text/plain": [
       "array([7.73838016e+11, 1.22801335e+10, 3.80525360e+09, 6.44331526e+08,\n",
       "       2.04341185e+08, 6.59280187e-18])"
      ]
     },
     "execution_count": 8,
     "metadata": {},
     "output_type": "execute_result"
    }
   ],
   "source": [
    "pca.explained_variance_"
   ]
  },
  {
   "cell_type": "code",
   "execution_count": 9,
   "metadata": {},
   "outputs": [
    {
     "data": {
      "text/plain": [
       "array([1055.83333333, 1095.16666667, 1088.5       , ..., 1241.83333333,\n",
       "       1037.83333333,  941.83333333])"
      ]
     },
     "execution_count": 9,
     "metadata": {},
     "output_type": "execute_result"
    }
   ],
   "source": [
    "pca.mean_"
   ]
  },
  {
   "cell_type": "code",
   "execution_count": 10,
   "metadata": {},
   "outputs": [],
   "source": [
    "pc1 = pca.components_[0].reshape(shape1)\n",
    "pc2 = pca.components_[1].reshape(shape1)\n",
    "pc3 = pca.components_[2].reshape(shape1)\n",
    "pc4 = pca.components_[3].reshape(shape1)\n",
    "pc5 = pca.components_[4].reshape(shape1)\n",
    "pc6 = pca.components_[5].reshape(shape1)"
   ]
  },
  {
   "cell_type": "code",
   "execution_count": 24,
   "metadata": {},
   "outputs": [],
   "source": [
    "plt.imsave('G:/Python_Learning/Python_RS/Image_Copy/Image/Landsat/'+'PCA'+'.TIFF', pc1)"
   ]
  },
  {
   "cell_type": "code",
   "execution_count": null,
   "metadata": {},
   "outputs": [],
   "source": [
    "fig , ax = plt.subplots(nrows=3 , ncols=2, figsize=(20,30))\n",
    "ax[0,0].imshow(pc1, cmap='gray')\n",
    "ax[0,0].set_title('PCA_1')\n",
    "ax[0,0].axis('off')\n",
    "ax[0,1].hist(pc1.ravel(), bins=256, density=True, histtype='bar', color='black')\n",
    "ax[0,1].set_title('Histogram of PCA-1')\n",
    "#########################\n",
    "ax[1,0].imshow(pc2, cmap='gray')\n",
    "ax[1,0].set_title('PCA_2')\n",
    "ax[1,0].axis('off')\n",
    "ax[1,1].hist(pc2.ravel(), bins=256, density=True, histtype='bar', color='black')\n",
    "ax[1,1].set_title('Histogram of PCA-2')\n",
    "##########################\n",
    "ax[2,0].imshow(pc4, cmap='gray')\n",
    "ax[2,0].set_title('PCA_4')\n",
    "ax[2,0].axis('off')\n",
    "ax[2,1].hist(pc4.ravel(), bins=256, density=True, histtype='bar', color='black')\n",
    "ax[2,1].set_title('Histogram of PCA-4')\n",
    "plt.show()"
   ]
  }
 ],
 "metadata": {
  "kernelspec": {
   "display_name": "Python 3",
   "language": "python",
   "name": "python3"
  },
  "language_info": {
   "codemirror_mode": {
    "name": "ipython",
    "version": 3
   },
   "file_extension": ".py",
   "mimetype": "text/x-python",
   "name": "python",
   "nbconvert_exporter": "python",
   "pygments_lexer": "ipython3",
   "version": "3.7.7"
  }
 },
 "nbformat": 4,
 "nbformat_minor": 4
}
